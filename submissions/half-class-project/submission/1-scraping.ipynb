{
 "cells": [
  {
   "cell_type": "markdown",
   "source": [
    "# Import Library"
   ],
   "metadata": {
    "collapsed": false
   },
   "id": "ef3abf533a6a6bfa"
  },
  {
   "cell_type": "code",
   "execution_count": 1,
   "id": "initial_id",
   "metadata": {
    "collapsed": true,
    "ExecuteTime": {
     "end_time": "2024-12-16T10:15:44.317494Z",
     "start_time": "2024-12-16T10:15:41.457475Z"
    }
   },
   "outputs": [
    {
     "name": "stdout",
     "output_type": "stream",
     "text": [
      "Requirement already satisfied: google-play-scraper in d:\\ai-ml_project\\belajar-pengembangan-machine-learning\\.venv\\lib\\site-packages (1.2.7)\n"
     ]
    },
    {
     "name": "stderr",
     "output_type": "stream",
     "text": [
      "\n",
      "[notice] A new release of pip is available: 23.2.1 -> 24.3.1\n",
      "[notice] To update, run: python.exe -m pip install --upgrade pip\n"
     ]
    }
   ],
   "source": [
    "!pip install google-play-scraper\n",
    "\n",
    "# Mengimpor pustaka google_play_scraper untuk mengakses ulasan dan informasi aplikasi dari Google Play Store.\n",
    "from google_play_scraper import app, reviews, Sort, reviews_all\n",
    "\n",
    "import pandas as pd  # Pandas untuk manipulasi dan analisis data\n",
    "pd.options.mode.chained_assignment = None  # Menonaktifkan peringatan chaining\n",
    "\n",
    "import csv"
   ]
  },
  {
   "cell_type": "markdown",
   "source": [
    "# Scraping Dataset\n",
    "\n",
    "Pada proyek ini, akan dilakukan analisis sentimen terhadap ulasan dan pendapat pengguna terkait aplikasi \"My Telkomsel\" di Play Store. Analisis sentimen akan membantu kita untuk memahami bagaimana pengguna merasakan dan mengungkapkan pandangan mereka terhadap aplikasi ini.\n",
    "\n",
    "Dengan menggunakan berbagai teknik pemrosesan teks dan algoritma machine learning, kita akan mencoba mengidentifikasi apakah ulasan pengguna terhadap aplikasi \"My Telkomsel\" cenderung positif, negatif, atau netral. Hasil analisis sentimen ini dapat memberikan wawasan berharga kepada pengembang aplikasi untuk meningkatkan pengalaman pengguna."
   ],
   "metadata": {
    "collapsed": false
   },
   "id": "9ea5459f4802978"
  },
  {
   "cell_type": "code",
   "outputs": [],
   "source": [
    "# Mengambil semua ulasan dari aplikasi dengan ID 'com.telkomsel.telkomselcm' di Google Play Store.\n",
    "# Proses scraping mungkin memerlukan beberapa saat tergantung pada jumlah ulasan yang ada.\n",
    "scrapreview = reviews_all(\n",
    "    'com.telkomsel.telkomselcm',       # ID aplikasi\n",
    "    lang='id',                  # Bahasa ulasan (default: 'en')\n",
    "    country='id',               # Negara (default: 'us')\n",
    "    sort=Sort.MOST_RELEVANT,    # Urutan ulasan (default: Sort.MOST_RELEVANT)\n",
    "    count=10000                 # Jumlah maksimum ulasan yang ingin diambil\n",
    ")"
   ],
   "metadata": {
    "collapsed": false,
    "ExecuteTime": {
     "end_time": "2024-12-16T10:18:26.223372Z",
     "start_time": "2024-12-16T10:15:44.322503Z"
    }
   },
   "id": "83d64c16cc4f56d5",
   "execution_count": 2
  },
  {
   "cell_type": "code",
   "outputs": [],
   "source": [
    "with open('ulasan_mytelkomsel.csv', mode='w', newline='', encoding='utf-8') as file:\n",
    "    writer = csv.writer(file)\n",
    "    writer.writerow(['Review'])  # Menulis header kolom\n",
    "    for review in scrapreview:\n",
    "        writer.writerow([review['content']])  # Menulis konten ulasan ke dalam file CSV"
   ],
   "metadata": {
    "collapsed": false,
    "ExecuteTime": {
     "end_time": "2024-12-16T10:18:26.887503Z",
     "start_time": "2024-12-16T10:18:26.225065Z"
    }
   },
   "id": "e34b26f5bd6e482e",
   "execution_count": 3
  },
  {
   "cell_type": "markdown",
   "source": [
    "# Loading Data"
   ],
   "metadata": {
    "collapsed": false
   },
   "id": "3b6d98ba86efe8f0"
  },
  {
   "cell_type": "code",
   "outputs": [
    {
     "name": "stdout",
     "output_type": "stream",
     "text": [
      "121500 11\n"
     ]
    }
   ],
   "source": [
    "app_reviews_df = pd.DataFrame(scrapreview)\n",
    "app_reviews_df.to_csv('ulasan_mytelkomsel.csv', index=False)\n",
    " \n",
    "# Membuat DataFrame dari hasil scrapreview\n",
    "app_reviews_df = pd.DataFrame(scrapreview)\n",
    " \n",
    "# Menghitung jumlah baris dan kolom dalam DataFrame\n",
    "jumlah_ulasan, jumlah_kolom = app_reviews_df.shape\n",
    "\n",
    "print(jumlah_ulasan, jumlah_kolom)"
   ],
   "metadata": {
    "collapsed": false,
    "ExecuteTime": {
     "end_time": "2024-12-16T10:18:30.491468Z",
     "start_time": "2024-12-16T10:18:26.891294Z"
    }
   },
   "id": "dc41176ed7d27722",
   "execution_count": 4
  },
  {
   "cell_type": "code",
   "outputs": [
    {
     "data": {
      "text/plain": "                               reviewId         userName  \\\n0  fd62da3c-55cf-4b15-b76b-03fc83dabb5a  Pengguna Google   \n1  893c8377-8428-46ce-b38d-e6586e101c2e  Pengguna Google   \n2  fd00a378-5921-4b6a-874f-5527b9950661  Pengguna Google   \n3  f2a93d83-809e-43e3-a0f8-02335ffffff8  Pengguna Google   \n4  6c30adf7-83e1-4617-abd0-e198c108c4c4  Pengguna Google   \n\n                                           userImage  \\\n0  https://play-lh.googleusercontent.com/EGemoI2N...   \n1  https://play-lh.googleusercontent.com/EGemoI2N...   \n2  https://play-lh.googleusercontent.com/EGemoI2N...   \n3  https://play-lh.googleusercontent.com/EGemoI2N...   \n4  https://play-lh.googleusercontent.com/EGemoI2N...   \n\n                                             content  score  thumbsUpCount  \\\n0  Aplikasi aneh, setelah update malah jadi lemot...      1             19   \n1  Aplikasi provider yg paling sering update, tap...      2            171   \n2  Untuk pengembang aplikasi MyTelkomsel tolong u...      1            176   \n3  Saya user Indihome, lebih baik aplikasinya di ...      2            147   \n4  Aplikasi gak guna pas dibuka aplikasinya malah...      1            212   \n\n  reviewCreatedVersion                  at  \\\n0                8.4.2 2024-12-14 05:42:57   \n1                8.4.2 2024-12-07 12:04:12   \n2                8.4.2 2024-12-09 09:30:04   \n3                8.4.2 2024-12-04 16:14:25   \n4                8.4.2 2024-12-03 06:29:30   \n\n                                        replyContent           repliedAt  \\\n0  Hai Kak Anto. Mohon maaf untuk ketidaknyamanan... 2024-12-14 06:15:23   \n1  Hai Kak Khoirul. Mohon maaf untuk ketidaknyama... 2024-12-07 12:57:13   \n2                                               None                 NaT   \n3                                               None                 NaT   \n4  Hai Kak Masdelina. Mohon maaf untuk ketidaknya... 2024-12-03 10:46:19   \n\n  appVersion  \n0      8.4.2  \n1      8.4.2  \n2      8.4.2  \n3      8.4.2  \n4      8.4.2  ",
      "text/html": "<div>\n<style scoped>\n    .dataframe tbody tr th:only-of-type {\n        vertical-align: middle;\n    }\n\n    .dataframe tbody tr th {\n        vertical-align: top;\n    }\n\n    .dataframe thead th {\n        text-align: right;\n    }\n</style>\n<table border=\"1\" class=\"dataframe\">\n  <thead>\n    <tr style=\"text-align: right;\">\n      <th></th>\n      <th>reviewId</th>\n      <th>userName</th>\n      <th>userImage</th>\n      <th>content</th>\n      <th>score</th>\n      <th>thumbsUpCount</th>\n      <th>reviewCreatedVersion</th>\n      <th>at</th>\n      <th>replyContent</th>\n      <th>repliedAt</th>\n      <th>appVersion</th>\n    </tr>\n  </thead>\n  <tbody>\n    <tr>\n      <th>0</th>\n      <td>fd62da3c-55cf-4b15-b76b-03fc83dabb5a</td>\n      <td>Pengguna Google</td>\n      <td>https://play-lh.googleusercontent.com/EGemoI2N...</td>\n      <td>Aplikasi aneh, setelah update malah jadi lemot...</td>\n      <td>1</td>\n      <td>19</td>\n      <td>8.4.2</td>\n      <td>2024-12-14 05:42:57</td>\n      <td>Hai Kak Anto. Mohon maaf untuk ketidaknyamanan...</td>\n      <td>2024-12-14 06:15:23</td>\n      <td>8.4.2</td>\n    </tr>\n    <tr>\n      <th>1</th>\n      <td>893c8377-8428-46ce-b38d-e6586e101c2e</td>\n      <td>Pengguna Google</td>\n      <td>https://play-lh.googleusercontent.com/EGemoI2N...</td>\n      <td>Aplikasi provider yg paling sering update, tap...</td>\n      <td>2</td>\n      <td>171</td>\n      <td>8.4.2</td>\n      <td>2024-12-07 12:04:12</td>\n      <td>Hai Kak Khoirul. Mohon maaf untuk ketidaknyama...</td>\n      <td>2024-12-07 12:57:13</td>\n      <td>8.4.2</td>\n    </tr>\n    <tr>\n      <th>2</th>\n      <td>fd00a378-5921-4b6a-874f-5527b9950661</td>\n      <td>Pengguna Google</td>\n      <td>https://play-lh.googleusercontent.com/EGemoI2N...</td>\n      <td>Untuk pengembang aplikasi MyTelkomsel tolong u...</td>\n      <td>1</td>\n      <td>176</td>\n      <td>8.4.2</td>\n      <td>2024-12-09 09:30:04</td>\n      <td>None</td>\n      <td>NaT</td>\n      <td>8.4.2</td>\n    </tr>\n    <tr>\n      <th>3</th>\n      <td>f2a93d83-809e-43e3-a0f8-02335ffffff8</td>\n      <td>Pengguna Google</td>\n      <td>https://play-lh.googleusercontent.com/EGemoI2N...</td>\n      <td>Saya user Indihome, lebih baik aplikasinya di ...</td>\n      <td>2</td>\n      <td>147</td>\n      <td>8.4.2</td>\n      <td>2024-12-04 16:14:25</td>\n      <td>None</td>\n      <td>NaT</td>\n      <td>8.4.2</td>\n    </tr>\n    <tr>\n      <th>4</th>\n      <td>6c30adf7-83e1-4617-abd0-e198c108c4c4</td>\n      <td>Pengguna Google</td>\n      <td>https://play-lh.googleusercontent.com/EGemoI2N...</td>\n      <td>Aplikasi gak guna pas dibuka aplikasinya malah...</td>\n      <td>1</td>\n      <td>212</td>\n      <td>8.4.2</td>\n      <td>2024-12-03 06:29:30</td>\n      <td>Hai Kak Masdelina. Mohon maaf untuk ketidaknya...</td>\n      <td>2024-12-03 10:46:19</td>\n      <td>8.4.2</td>\n    </tr>\n  </tbody>\n</table>\n</div>"
     },
     "execution_count": 5,
     "metadata": {},
     "output_type": "execute_result"
    }
   ],
   "source": [
    "# Menampilkan lima baris pertama dari DataFrame app_reviews_df\n",
    "app_reviews_df.head()"
   ],
   "metadata": {
    "collapsed": false,
    "ExecuteTime": {
     "end_time": "2024-12-16T10:18:30.538362Z",
     "start_time": "2024-12-16T10:18:30.494471Z"
    }
   },
   "id": "eabde13717451a2a",
   "execution_count": 5
  },
  {
   "cell_type": "code",
   "outputs": [
    {
     "name": "stdout",
     "output_type": "stream",
     "text": [
      "<class 'pandas.core.frame.DataFrame'>\n",
      "RangeIndex: 121500 entries, 0 to 121499\n",
      "Data columns (total 11 columns):\n",
      " #   Column                Non-Null Count   Dtype         \n",
      "---  ------                --------------   -----         \n",
      " 0   reviewId              121500 non-null  object        \n",
      " 1   userName              121500 non-null  object        \n",
      " 2   userImage             121500 non-null  object        \n",
      " 3   content               121500 non-null  object        \n",
      " 4   score                 121500 non-null  int64         \n",
      " 5   thumbsUpCount         121500 non-null  int64         \n",
      " 6   reviewCreatedVersion  99592 non-null   object        \n",
      " 7   at                    121500 non-null  datetime64[ns]\n",
      " 8   replyContent          68979 non-null   object        \n",
      " 9   repliedAt             68979 non-null   datetime64[ns]\n",
      " 10  appVersion            99592 non-null   object        \n",
      "dtypes: datetime64[ns](2), int64(2), object(7)\n",
      "memory usage: 10.2+ MB\n"
     ]
    }
   ],
   "source": [
    "# Menampilkan informasi tentang DataFrame app_reviews_df\n",
    "app_reviews_df.info()"
   ],
   "metadata": {
    "collapsed": false,
    "ExecuteTime": {
     "end_time": "2024-12-16T10:18:30.661020Z",
     "start_time": "2024-12-16T10:18:30.541969Z"
    }
   },
   "id": "3709dbcb97c928fe",
   "execution_count": 6
  },
  {
   "cell_type": "code",
   "outputs": [],
   "source": [
    "# Membuat DataFrame baru (clean_df) dengan menghapus baris yang memiliki nilai yang hilang (NaN) dari app_reviews_df\n",
    "clean_df = app_reviews_df.dropna()"
   ],
   "metadata": {
    "collapsed": false,
    "ExecuteTime": {
     "end_time": "2024-12-16T10:18:30.771552Z",
     "start_time": "2024-12-16T10:18:30.664017Z"
    }
   },
   "id": "d5ac2fb5fb3f89fb",
   "execution_count": 7
  },
  {
   "cell_type": "code",
   "outputs": [
    {
     "name": "stdout",
     "output_type": "stream",
     "text": [
      "56999 11\n"
     ]
    }
   ],
   "source": [
    "# Menghapus baris duplikat dari DataFrame clean_df\n",
    "clean_df = clean_df.drop_duplicates()\n",
    " \n",
    "# Menghitung jumlah baris dan kolom dalam DataFrame clean_df setelah menghapus duplikat\n",
    "jumlah_ulasan_setelah_hapus_duplikat, jumlah_kolom_setelah_hapus_duplikat = clean_df.shape\n",
    "\n",
    "print(jumlah_ulasan_setelah_hapus_duplikat, jumlah_kolom_setelah_hapus_duplikat)"
   ],
   "metadata": {
    "collapsed": false,
    "ExecuteTime": {
     "end_time": "2024-12-16T10:18:31.021599Z",
     "start_time": "2024-12-16T10:18:30.774552Z"
    }
   },
   "id": "7148bc93fb3c8082",
   "execution_count": 8
  },
  {
   "cell_type": "code",
   "outputs": [],
   "source": [
    "clean_df.to_csv('clean_ulasan_mytelkomsel.csv', index=False)"
   ],
   "metadata": {
    "collapsed": false,
    "ExecuteTime": {
     "end_time": "2024-12-16T10:18:32.660401Z",
     "start_time": "2024-12-16T10:18:31.025603Z"
    }
   },
   "id": "b3ea611d579dceaa",
   "execution_count": 9
  }
 ],
 "metadata": {
  "kernelspec": {
   "display_name": "Python 3",
   "language": "python",
   "name": "python3"
  },
  "language_info": {
   "codemirror_mode": {
    "name": "ipython",
    "version": 2
   },
   "file_extension": ".py",
   "mimetype": "text/x-python",
   "name": "python",
   "nbconvert_exporter": "python",
   "pygments_lexer": "ipython2",
   "version": "2.7.6"
  }
 },
 "nbformat": 4,
 "nbformat_minor": 5
}
